{
 "cells": [
  {
   "cell_type": "markdown",
   "metadata": {},
   "source": [
    "# Σ*crit Demo\n",
    "\n",
    "Reproduces the **characteristic surface density in the MOND context** ($a_0 / (2\\pi G)$ with $a_0 = c H_0 / (2\\pi)$),\n",
    "which simplifies to:\n",
    "$$\\Sigma_{\\!*}^{\\text{crit}}=\\dfrac{c\\,H_0}{(2\\pi)^2 G}$$\n",
    "and demonstrates its **robustness for $H_0=67\\ldots74$ km s$^{-1}$ Mpc$^{-1}$**.\n"
   ]
  },
  {
   "cell_type": "code",
   "execution_count": null,
   "metadata": {},
   "outputs": [],
   "source": [
    "# Important Physical Constants (Based on CODATA 2022 for high precision)\n",
    "c = 2.99792458e8         # Speed of light in vacuum in meters per second (m/s)\n",
    "G = 6.67430e-11          # Gravitational constant in m³ kg⁻¹ s⁻²\n",
    "# Conversion factor from Solar Masses per Square Parsec (M☉/pc²) to Kilograms per Square Meter (kg/m²)\n",
    "# This factor is needed to present results in a more common unit for astrophysical contexts.\n",
    "# 1 Solar Mass (M☉) = 1.98847 × 10³⁰ kg\n",
    "# 1 Parsec (pc) = 3.08567758149 × 10¹⁶ m\n",
    "# Therefore, 1 M☉/pc² = (1.98847e30 kg) / (3.08567758149e16 m)² ≈ 2.08889e4 kg/m²\n",
    "# We will use this factor to convert from M☉/pc² to kg/m².\n",
    "Msol_per_pc2_in_kg_per_m2 = 2.08889e4 # Conversion: 1 M☉/pc² → kg/m²\n"
   ]
  },
  {
   "cell_type": "code",
   "execution_count": null,
   "metadata": {},
   "outputs": [],
   "source": [
    "import numpy as np           # For numerical operations, especially pi\n",
    "import pandas as pd          # For creating and manipulating DataFrames (tables)\n",
    "import matplotlib.pyplot as plt # For creating plots and visualizations\n"
   ]
  },
  {
   "cell_type": "code",
   "execution_count": null,
   "metadata": {},
   "outputs": [],
   "source": [
    "def sigma_crit(H0_km_s_Mpc):\n",
    "    \"\"\"Calculates the characteristic surface density (Σ*crit) in SI units and the MOND acceleration a0.\n",
    "    \n",
    "    This function uses the MOND-related formula for the characteristic surface density.\n",
    "    \n",
    "    Args:\n",
    "        H0_km_s_Mpc (float): Hubble Constant in kilometers per second per Megaparsec (km/s/Mpc).\n",
    "    \n",
    "    Returns:\n",
    "        tuple: A tuple containing (a0_SI, sigma_crit_SI),\n",
    "               where a0_SI is the MOND acceleration in m/s²\n",
    "               and sigma_crit_SI is the characteristic surface density in kg/m².\n",
    "    \"\"\"\n",
    "    # Convert the Hubble Constant from km/s/Mpc to SI units (1/s)\n",
    "    # 1 Mpc = 3.08567758149e22 meters\n",
    "    H0_SI = H0_km_s_Mpc * 1000 / 3.08567758149e22 # (km/s/Mpc) * (1000 m/km) / (meters/Mpc) = 1/s\n",
    "    \n",
    "    # Calculate the characteristic acceleration a0 in the MOND context (a0 = c * H0 / (2*pi))\n",
    "    a0_SI = c * H0_SI / (2 * np.pi)\n",
    "    \n",
    "    # Calculate the characteristic surface density Sigma*crit in the MOND context (Sigma*crit = a0 / (2*pi*G))\n",
    "    # This is equivalent to c * H0 / ((2*pi)^2 * G)\n",
    "    sigma_crit_SI = a0_SI / (2 * np.pi * G)\n",
    "    \n",
    "    return a0_SI, sigma_crit_SI\n"
   ]
  },
  {
   "cell_type": "code",
   "execution_count": null,
   "metadata": {},
   "outputs": [],
   "source": [
    "# Prepare for building a table (DataFrame) to store the results\n",
    "rows = []\n",
    "# Loop through a range of H0 values to see their effect on the density\n",
    "for H0 in range(67, 75): # From 67 to 74 (inclusive)\n",
    "    # Calculate a0 and Sigma*crit for the current H0 value\n",
    "    a0, sig = sigma_crit(H0)\n",
    "    # Append the calculated values as a row to the list\n",
    "    rows.append({\n",
    "        'H0 (km/s/Mpc)': H0,                          # Hubble Constant\n",
    "        'a0 (1e-10 m/s²)': a0 * 1e10,                 # a0 scaled for better readability\n",
    "        'Σ*crit (kg/m²)': sig,                        # Sigma*crit in SI units\n",
    "        # Convert from kg/m² to M☉/pc² for astrophysical comparability\n",
    "        # We divide by the conversion factor, as 1 M☉/pc² corresponds to X kg/m².\n",
    "        'Σ*crit (M☉/pc²)': sig / Msol_per_pc2_in_kg_per_m2\n",
    "    })\n",
    "# Create a Pandas DataFrame from the collected rows\n",
    "df = pd.DataFrame(rows)\n",
    "# Display the created DataFrame\n",
    "df\n"
   ]
  },
  {
   "cell_type": "code",
   "execution_count": null,
   "metadata": {},
   "outputs": [],
   "source": [
    "# Create a new figure for the plot\n",
    "plt.figure(figsize=(6,4)) # Defines the size of the plot (width, height in inches)\n",
    "\n",
    "# Plot the characteristic surface density (Σ*crit) as a function of H0\n",
    "plt.plot(df['H0 (km/s/Mpc)'], df['Σ*crit (M☉/pc²)'], marker='o', label='Calculated Σ*crit')\n",
    "\n",
    "# Add a horizontal line at a reference value of 124 M☉ pc⁻²\n",
    "# This serves for comparison with known or expected values (e.g., from observations).\n",
    "plt.axhline(124, ls='--', color='red', label='Reference Value (124 M☉ pc⁻²)')\n",
    "\n",
    "# Label for the X-axis\n",
    "plt.xlabel('$H_0$ [km s$^{-1}$ Mpc$^{-1}$]', fontsize=12)\n",
    "# Label for the Y-axis\n",
    "plt.ylabel('$Σ^{*}_{crit}$ [M☉ pc$^{-2}$]', fontsize=12)\n",
    "# Title of the plot\n",
    "plt.title('Robustness of $Σ^{*}_{crit}$ against $H_0$ Variations', fontsize=14)\n",
    "\n",
    "# Display the legend to identify the different lines\n",
    "plt.legend()\n",
    "# Enable the grid for better readability of values\n",
    "plt.grid(True)\n",
    "\n",
    "# Display the plot\n",
    "plt.show()\n"
   ]
  }
 ],
 "metadata": {
  "kernelspec": {
   "display_name": "Python 3",
   "language": "python",
   "name": "python3"
  },
  "language_info": {
   "name": "python"
  }
 },
 "nbformat": 4,
 "nbformat_minor": 5
}
