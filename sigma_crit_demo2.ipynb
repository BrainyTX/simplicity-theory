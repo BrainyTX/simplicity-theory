{
 "cells": [
  {
   "cell_type": "markdown",
   "metadata": {},
   "source": [# Σ*crit Demo (MOND characteristic surface density)

Reproduziert die charakteristische MOND-Flächendichte
$$\Sigma_{0} = \dfrac{c\,H_0}{(2\pi)^2\,G}$$
und zeigt deren Robustheit für $H_0 = 67\ldots74$ km s\(^{-1}\) Mpc\(^{-1}\).

   ]
  },
  {
   "cell_type": "code",
   "execution_count": null,
   "metadata": {},
   "outputs": [],
   "source": [
    \"\"\"Fundamentale Konstanten (CODATA 2022)\"\"\"\n",
    "c  = 2.99792458e8        # m/s\n",
    "G  = 6.67430e-11         # m^3 kg^-1 s^-2\n",
    "Msol_pc2_to_kg_m2 = 4.789e-4  # 1 M☉/pc² in kg/m²"
   ]
  },
  {
   "cell_type": "code",
   "execution_count": null,
   "metadata": {},
   "outputs": [],
   "source": [
    "import numpy as np, pandas as pd, matplotlib.pyplot as plt"
   ]
  },
  {
   "cell_type": "code",
   "execution_count": null,
   "metadata": {},
   "outputs": [],
   "source": [
    \"\"\"Funktion: a0 und Sigma*\"\"\"\n",
    "def sigma_crit(H0_km_s_Mpc):\n",
    "    H0_SI = H0_km_s_Mpc * 1000 / (3.085677581e22)  # 1/Mpc → 1/m\n",
    "    a0    = c * H0_SI / (2*np.pi)\n",
    "    sigma = a0 / (2*np.pi*G)\n",
    "    return a0, sigma"
   ]
  },
  {
   "cell_type": "code",
   "execution_count": null,
   "metadata": {},
   "outputs": [],
   "source": [
    \"\"\"Sweep über H0=67..74\"\"\"\n",
    "rows = []\n",
    "for H0 in range(67, 75):\n",
    "    a0, sig = sigma_crit(H0)\n",
    "    rows.append({\n",
    "        'H0 (km/s/Mpc)': H0,\n",
    "        'a0 (1e-10 m/s^2)': a0*1e10,\n",
    "        'Σ*crit (kg/m²)': sig,\n",
    "        'Σ*crit (M☉/pc²)': sig / Msol_pc2_to_kg_m2\n",
    "    })\n",
    "df = pd.DataFrame(rows)\n",
    "df"
   ]
  },
  {
   "cell_type": "code",
   "execution_count": null,
   "metadata": {},
   "outputs": [],
   "source": [
    \"\"\"Plot\"\"\"\n",
    "plt.figure(figsize=(6,4))\n",
    "plt.plot(df['H0 (km/s/Mpc)'], df['Σ*crit (M☉/pc²)'], marker='o')\n",
    "plt.axhline(124, linestyle='--')\n",
    "plt.xlabel('$H_0$  [km s$^{-1}$ Mpc$^{-1}$]')\n",
    "plt.ylabel('$Σ^{*}_{crit}$  [M☉ pc$^{-2}$]')\n",
    "plt.title('Robustness of $Σ^{*}_{crit}$ vs $H_0$')\n",
    "plt.grid(True)\n",
    "plt.show()"
   ]
  }
 ],
 "metadata": {
  "kernelspec": {
   "display_name": "Python 3",
   "language": "python",
   "name": "python3"
  },
  "language_info": {
   "name": "python",
   "version": ""
  }
 },
 "nbformat": 4,
 "nbformat_minor": 5
}
