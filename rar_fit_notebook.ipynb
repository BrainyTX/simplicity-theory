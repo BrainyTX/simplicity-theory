# %% [markdown]
# # RAR-Fit-Notebook: Basic Structure
#
# This notebook is designed to load **SPARC rotation curves**, plot predicted velocities based on your **critical surface density model**, and calculate a $\chi^2$-score.

# %%
# Import necessary libraries
import numpy as np
import matplotlib.pyplot as plt
from astropy.io import ascii # For reading data
from scipy.optimize import curve_fit # For fitting functions
from astropy.constants import G # Gravitational constant (SI units)
from functools import partial # For creating partial functions for fitting
from pathlib import Path # For handling file paths
import pandas as pd # For data manipulation and storing results
from IPython.display import display # For displaying DataFrames in Jupyter

# Optional: For MCMC error estimation (to be integrated later)
# import emcee
# import corner # For Corner plots

print("Welcome to the RAR-Fit-Notebook, Pieter!")
print("Ready to make data dance and stars sparkle... or at least fit their rotation curves! ✨")

# Gravitational constant in (kpc km^2)/(Msun s^2)
# This is the more practical unit for astrophysical calculations with SPARC data.
G_kpc = 4.302e-6  # kpc (km/s)^2 Msun^{-1}

# Gravitational constant in (pc km^2)/(Msun s^2) - useful for a0 calculation
G_pc = 4.30091e-3 # pc (km/s)^2 Msun^{-1}
pc_per_kpc = 1e3 # Conversion factor from kpc to pc

# %% [markdown]
# ---
#
# ## **1. Load SPARC Curves**
#
# This function loads the **individual galaxy rotation curve data**.
# You need to adjust the `filepath` to point to one of these specific galaxy files.
# SPARC individual galaxy files are typically `.txt` or `.dat` and contain columns like:
# `R` (Radius), `Vrot` (Observed Rotation Velocity), `e_Vrot` (Error on Vrot),
# `Vdisk` (Stellar Disk Contribution), `Vgas` (Gas Contribution), etc.

# %%
def load_galaxy_data(filepath):
    """
    Loads SPARC rotation curve data for a single galaxy.
    Expects a file with columns for radius (R), observed
    velocity (Vrot), and error (e_Vrot).
    
    SPARC files often contain additional columns like Vdisk, Vgas, Vbul,
    which represent the baryonic contributions to the rotation curve.
    
    Units:
    R: kpc (ensure your data is in kpc, if in pc, adjust conversions or G_kpc/G_pc accordingly)
    Vrot, e_Vrot, Vdisk, Vgas, Vbul: km/s
    """
    try:
        # To avoid header chaos (e.g., missing headers or comment lines),
        # use guess=False and explicitly provide column names.
        # This list of names covers common SPARC mass model file columns.
        # Adjust if your specific files have different columns or order.
        column_names = ["R", "Vrot", "e_Vrot", "Vgas", "Vdisk", "Vbul", "SBdisk", "SBbul"]
        
        data = ascii.read(filepath, format="basic", delimiter=None, guess=False, names=column_names)
        
        # Standardized column names for use in the notebook
        r = data['R'] # Radius in kpc
        v_obs = data['Vrot'] # Observed velocity in km/s
        v_err = data['e_Vrot'] # Error of observed velocity in km/s
        
        # Load baryonic contributions. If a column is not present, it defaults to zeros.
        v_disk = data['Vdisk'] if 'Vdisk' in data.colnames else np.zeros_like(r)
        v_gas = data['Vgas'] if 'Vgas' in data.colnames else np.zeros_like(r)
        v_bulge = data['Vbul'] if 'Vbul' in data.colnames else np.zeros_like(r) # Include bulge contribution

        print(f"Data from {filepath} successfully loaded.")
        return r, v_obs, v_err, v_disk, v_gas, v_bulge
    except FileNotFoundError:
        print(f"Error: File {filepath} not found. Please check the path.")
        return None, None, None, None, None, None
    except Exception as e:
        print(f"Error loading data from {filepath}: {e}")
        return None, None, None, None, None, None

# %% [markdown]
# ---
#
# ## **2. Define Model for v(r; $\Sigma_{crit}$)**
#
# This function must represent YOUR specific RAR theory.
# `Sigma_crit` (or `a0`) can come as a constant value from your `sigma_crit.py` script
# or be treated as a fit parameter.
#
# **IMPORTANT:** Your physical formula must go here!
#
# **Minimal Example for a functioning `rar_model_velocity` (as discussed):**
# This version uses `v_disk`, `v_gas`, and `v_bulge` are directly passed (e.g., from loaded SPARC data)
# and `Sigma_crit` is the *only* parameter to be fitted.

# %%
def rar_model_velocity(r_kpc, Sigma_crit, v_disk, v_gas, v_bulge):
    """
    Calculates the predicted rotation velocity v(r) based on your RAR model.
    This version uses baryonic velocity contributions (v_disk, v_gas, v_bulge) directly
    and fits only Sigma_crit.

    Parameters:
    r_kpc (array): Radii in kpc
    Sigma_crit (float): Critical surface density in M_sun/pc^2 (or your unit)
    v_disk (array): Stellar disk velocity contribution in km/s (from SPARC)
    v_gas (array): Gas velocity contribution in km/s (from SPARC)
    v_bulge (array): Bulge velocity contribution in km/s (from SPARC)

    Returns:
    v_predicted (array): Predicted velocity in km/s

    Units:
    r_kpc: kpc
    Sigma_crit: Msun/pc^2
    v_disk, v_gas, v_bulge, v_predicted: km/s
    """
    # Convert Sigma_crit to a0 (acceleration scale)
    # a0 = 2 * pi * G_pc * Sigma_crit
    # G_pc is in pc (km/s)^2 / Msun. Sigma_crit is Msun/pc^2.
    # So a0 will be in (km/s)^2 / pc.
    # This conversion implies a specific relationship between Sigma_crit and a0,
    # often found in MOND-like theories (e.g., Milgrom 1983).
    a0 = 2 * np.pi * G_pc * Sigma_crit  # km/s^2 * pc (or km^2/s^2/pc)
    
    # Calculate baryonic velocity and acceleration
    # v_bar is in km/s. Include bulge contribution.
    v_bar = np.sqrt(v_disk**2 + v_gas**2 + v_bulge**2)       
    
    # Calculate baryonic acceleration a_bar from v_bar and r
    # a_bar will be in (km/s)^2 / kpc. To get (km/s)^2 / pc, multiply r_kpc by pc_per_kpc.
    # Handle r=0 to avoid division by zero. A small threshold (e.g., 1e-3 kpc) can prevent NaNs
    # if log plots or further divisions are involved.
    r_pc = r_kpc * pc_per_kpc # Convert radius to pc for consistency with a0 units
    a_bar = np.where(r_pc > 1e-3, v_bar**2 / r_pc, 0) # km/s^2 / pc (or km^2/s^2/pc)
    
    # Implement your interpolation function μ(x) where x = a_bar / a0
    # Example μ-function (as discussed, this is a MOND-like example, not your specific one!):
    # Ensure a0 is not zero to avoid division by zero
    x = np.where(a0 > 0, a_bar / a0, np.inf) # Handle a0 = 0 case
    mu = x / (1 + x) # Example of a simple μ-function (e.g., Simple form from McGaugh 2011)
    
    # Calculate the total observed acceleration a_tot = a_bar / μ
    # Handle mu = 0 case if it can occur (e.g., if a_bar is 0 and mu is 0)
    a_tot = np.where(mu > 0, a_bar / mu, np.inf) # km/s^2 * pc
    
    # Calculate the predicted velocity from total acceleration
    # v_pred = sqrt(a_tot * r)
    # a_tot is in (km/s)^2 / pc, r_kpc is in kpc. Convert r_kpc to pc.
    v_pred = np.sqrt(a_tot * r_pc) # km/s

    return v_pred

# The fit_function_placeholder is kept for conceptual clarity, but the actual fitting
# will be done using a partial function in the workflow.
def fit_function_placeholder(r, Sigma_crit):
    """
    Placeholder for the fit function. In the workflow, a partial function
    will be created from rar_model_velocity with v_disk, v_gas, and v_bulge fixed.
    """
    # This placeholder will be replaced by the partial function in the workflow
    # It's here to show the expected signature for a single fit parameter.
    return np.zeros_like(r)


# %% [markdown]
# ---
#
# ## **3. Plotting and $\chi^2$-Score Output**

# %%
def plot_rotational_curve(r_data, v_obs_data, v_err_data, v_predicted, galaxy_name="Unknown Galaxy"):
    """
    Plots the observed and predicted rotation curves.

    Parameters:
    r_data (array): Radii of the data
    v_obs_data (array): Observed velocities
    v_err_data (array): Errors of observed velocities
    v_predicted (array): Predicted velocities from the model
    galaxy_name (str): Name of the galaxy for the plot title
    """
    plt.figure(figsize=(10, 6))
    plt.errorbar(r_data, v_obs_data, yerr=v_err_data, fmt='o', color='blue', label='Observed Data (SPARC)', capsize=3)
    plt.plot(r_data, v_predicted, color='red', linestyle='--', label='Model Prediction')
    plt.xlabel('Radius (kpc)')
    plt.ylabel('Rotation Velocity (km/s)')
    plt.title(f'Rotation Curve for {galaxy_name}')
    plt.legend()
    plt.grid(True)
    plt.tight_layout()
    plt.show()

def calculate_chi_squared(v_obs, v_err, v_predicted, num_fit_parameters):
    """
    Calculates the reduced Chi-squared value.

    Parameters:
    v_obs (array): Observed velocities
    v_err (array): Errors of observed velocities
    v_predicted (array): Predicted velocities from the model
    num_fit_parameters (int): Number of free parameters used in the fit.

    Returns:
    chi_squared (float): The Chi-squared value
    reduced_chi_squared (float): The reduced Chi-squared value
    """
    # Ensure lengths match
    if not (len(v_obs) == len(v_err) == len(v_predicted)):
        print("Error: Lengths of input arrays do not match.")
        return np.nan, np.nan

    # Avoid division by zero for errors
    # A minimum error size can be helpful here to avoid NaN values
    v_err_safe = np.where(v_err > 0, v_err, 1e-9) # Small value for 0 errors

    # Calculate Chi-squared
    chi_squared = np.sum(((v_obs - v_predicted) / v_err_safe)**2)

    # Degrees of freedom = Number of data points - Number of free parameters in the model
    num_data_points = len(v_obs)
    degrees_of_freedom = num_data_points - num_fit_parameters

    if degrees_of_freedom <= 0:
        print("Warning: Not enough degrees of freedom for reduced Chi-squared calculation.")
        reduced_chi_squared = np.nan
    else:
        reduced_chi_squared = chi_squared / degrees_of_freedom

    return chi_squared, reduced_chi_squared

# %% [markdown]
# ---
#
# ## **Workflow of the Notebook (Batch Processing)**
# This section provides a workflow to automatically load, fit, and process multiple galaxy rotation curves.

# %%
# --- Folder with SPARC files ------------------------------------------
DATA_DIR = Path("Rotmod_LTG")          # Adjust if your folder has a different name

# --- Prepare results DataFrame ----------------------------------------
results = []

# --- Loop over all *.dat or *.txt files --------------------------
# This loop will iterate through all galaxy data files in the specified directory,
# perform the fit, and store the results.
for file in sorted(DATA_DIR.glob("*.*")):          # *.dat or *.txt
    galaxy_name = file.stem # Get galaxy name from filename (e.g., "NGC0024")
    print(f"Processing galaxy: {galaxy_name}")

    # 1) Load data
    # Now returns v_bulge as well
    r, v_obs, v_err, v_disk, v_gas, v_bulge = load_galaxy_data(file)

    if r is None: # Skip if data loading failed
        print(f"Skipping {galaxy_name} due to data loading error.")
        continue
    
    # Fit prevention: Skip galaxies with too few data points for a reliable fit
    if len(r) < 6: # Example threshold, adjust as needed
        print(f"{galaxy_name}: Too few data points ({len(r)}) for reliable fit – skipped.")
        continue

    # 2) Build fit function with fixed baryonic contributions
    # This creates a function where only Sigma_crit is a free parameter for curve_fit.
    fit_func = partial(rar_model_velocity, v_disk=v_disk, v_gas=v_gas, v_bulge=v_bulge)

    # 3) Fit Sigma_crit (one parameter!)
    try:
        # p0: initial guess for Sigma_crit
        # bounds: sensible limits for Sigma_crit
        popt, pcov = curve_fit(
            fit_func, r, v_obs, sigma=v_err,
            absolute_sigma=True,
            p0=[124.0],          # Starting value for Sigma_crit (Msun/pc^2)
            bounds=(1.0, 300.0)  # Sensible bounds for Sigma_crit
        )
        sigma_fit = popt[0]
        sigma_err = pcov[0, 0]**0.5 # Error on Sigma_crit from covariance matrix

        # 4) Prediction & χ²
        v_pred = fit_func(r, sigma_fit) # Calculate predicted velocities with the fitted Sigma_crit
        chi2, red_chi2 = calculate_chi_squared(
            v_obs, v_err, v_pred, num_fit_parameters=1) # num_fit_parameters is 1 for Sigma_crit

        # 5) Add row to results list
        results.append({
            "galaxy": galaxy_name,
            "Sigma_crit_fit": sigma_fit,
            "e_Sigma_crit": sigma_err,
            "chi2": chi2,
            "reduced_chi2": red_chi2,
            "n_points": len(r)
        })
        print(f"  {galaxy_name} fitted: Sigma_crit={sigma_fit:.2f} +/- {sigma_err:.2f}, red_chi2={red_chi2:.2f}")

        # Plot Hook for Debugging:
        # Uncomment and adjust galaxy names to plot specific rotation curves immediately after fit.
        # This is useful for visual inspection of problematic fits.
        # if galaxy_name in {"NGC2841", "DDO154"}:
        #     plot_rotational_curve(r, v_obs, v_err, v_pred, galaxy_name=galaxy_name)

    except RuntimeError as e:
        print(f"{galaxy_name}: Fit did not converge – skipped. Error: {e}")
    except ValueError as e:
        print(f"{galaxy_name}: Error during fit setup/execution – skipped. Error: {e}")

# --- Package everything into a DataFrame and save ------------------------
if results: # Check if there are any results to process
    df = pd.DataFrame(results)
    df.sort_values("Sigma_crit_fit", inplace=True) # Sort by the fitted Sigma_crit
    df.to_csv("sparc_sigma_fit_results.csv", index=False) # Save results to a CSV file
    print("\n--- Fit Results Summary ---")
    display(df.head()) # Display the first few rows of the results
    print(f"\nFull results saved to sparc_sigma_fit_results.csv ({len(df)} galaxies processed).")

    # Result Visualization: Histograms and Scatter Plots
    # Quick overview of the distribution of fitted Sigma_crit values.
    plt.figure(figsize=(8, 6))
    plt.hist(df["Sigma_crit_fit"], bins=20, edgecolor='black')
    plt.xlabel(r"$\Sigma_{\rm crit}$ [M$_\odot$/pc$^2$]")
    plt.ylabel("Number of Galaxies")
    plt.title("Distribution of Fitted $\Sigma_{\rm crit}$ Values")
    plt.grid(axis='y', alpha=0.75)
    plt.show()

    # If you later load central surface brightness (mu0) or other galaxy properties,
    # you can create scatter plots to look for correlations.
    # Example (assuming 'mu0' column exists in your results DataFrame):
    # if 'mu0' in df.columns:
    #     plt.figure(figsize=(10, 7))
    #     df.plot.scatter(x="mu0", y="Sigma_crit_fit", title="Sigma_crit vs. Central Surface Brightness")
    #     plt.xlabel(r"$\mu_0$ [mag/arcsec$^2$]")
    #     plt.ylabel(r"$\Sigma_{\rm crit}$ [M$_\odot$/pc$^2$]")
    #     plt.grid(True)
    #     plt.show()

else:
    print("\nNo galaxies were successfully processed. Check data directory and file formats.")

# %% [markdown]
# ---
#
# ## **Quick Code Review & Practical Tips**
#
# ### What the code does…
#
# | Step | Function | Explanation |
# | :--- | :--- | :--- |
# | `glob` | `Path.glob("*")` | Finds all files in the `Rotmod_LTG` folder. |
# | `load_galaxy_data` | `load_galaxy_data(file)` | Reads each file into arrays for `r`, `Vobs`, `Error`, `Vdisk`, `Vgas`, `Vbul`. Includes explicit column naming for robustness. |
# | `partial` | `partial(rar_model_velocity, ...)` | Creates a fit function for each galaxy where only `Sigma_crit` is a free parameter, by fixing `v_disk`, `v_gas`, and `v_bulge`. |
# | `curve_fit` | `curve_fit(...)` | Provides the optimal value & error for `Sigma_crit`. |
# | `calculate_chi_squared` | `calculate_chi_squared(...)` | Calculates $\chi^2$ and reduced $\chi^2$ for quality checks. |
# | `Pandas DataFrame` | `pd.DataFrame(results)` | Collects all results; `to_csv` saves the entire set. |
#
# ### Common Pitfalls
#
# * **Filenames:** Some galaxies have spaces (e.g., "NGC 0055.dat"). `Path.glob("*")` finds everything; `file.stem` provides the name without extension and path.
# * **Unit Test:** Visually check if `v_pred` looks reasonable for a few galaxies (Plot).
# * **Column Names:** If individual files have different headers or different column orders than the `column_names` list in `load_galaxy_data`, you'll need to adjust that list.
# * **Fit Prevention:** Galaxies with very few data points can lead to unreliable fits. The code now includes a check (`if len(r) < 6: continue`) to skip such galaxies.
# * **Quality Flag Filtering:** For a more rigorous comparison, you might want to pre-filter galaxies based on the `Quality Flag` from the `Table1.mrt` file (which would require loading and processing `Table1.mrt` separately and creating a dictionary mapping galaxy names to their quality flags, then skipping based on that).
# * **Parallelization:** For very large datasets or more complex fitting (e.g., MCMC), consider using `joblib` (`from joblib import Parallel, delayed`) to parallelize the fitting process across multiple CPU cores.
