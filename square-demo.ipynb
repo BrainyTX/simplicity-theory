# =============================================================================
# Simplicity Theory: The Square-Rule applied to SPARC Data
# =============================================================================
#
# Author: Logica (adapted and extended by Gemini)
# Date: 2025-07-16
#
# --- GOAL ---
# This script demonstrates the qualitative effect of the "Square-Rule" on a
# selection of galaxies from the SPARC (Spitzer Photometry & Accurate Rotation
# Curves) catalog.
#
# It performs the following steps:
# 1. Scans a directory for SPARC `rotmod.dat` files.
# 2. For each galaxy, it loads the rotation curve data.
# 3. It calculates a predicted rotation curve based on baryonic matter and
#    a simple amplification factor derived from the Square-Rule.
# 4. It visualizes the results by plotting the observed curve, the purely
#    baryonic curve, and the model's predicted curve.
# 5. It prints a final summary table with key statistics (e.g., RMSE).
#
# --- CONCEPT: THE SQUARE-RULE ---
# The underlying hypothesis assumes an additional gravity-like effect that
# depends on the local mass density. This effect is described by an
# amplification factor 'f', which modifies the purely Newtonian gravity
# of the baryons (stars, gas).
#
# The predicted velocity (v_pred) is derived from the baryonic velocity
# (v_bar) as follows:
#
#   v_pred^2 = v_bar^2 * (1 + f)
#
# The amplification factor 'f' itself is defined by the "Square-Rule",
# which depends on the local surface mass density Σ (Sigma):
#
#   f(Σ) = 1 - (Σ / Σ*)^2
#
# Here, Σ* (Sigma-Star) is a proposed universal constant for surface mass
# density, acting as a critical threshold.
# - If the local density Σ is much lower than Σ*, the factor 'f' is close to 1
#   (maximum amplification).
# - As Σ approaches the value of Σ*, 'f' goes to 0 (no amplification).
#
# --- USAGE ---
# 1. Make sure you have Python installed with the required libraries:
#    pip install pandas numpy matplotlib
# 2. Create a folder named `rotmod_LTG` in the same directory as this script.
# 3. Place your `*_rotmod.dat` files from the SPARC database into this folder.
# 4. Run the script: python your_script_name.py
#
# =============================================================================


# -----------------------------------------------------------------------------
# 1. SETUP AND IMPORTS
# -----------------------------------------------------------------------------
# Import necessary libraries.
# - pathlib: For clean, OS-independent handling of file paths.
# - pandas: For robustly reading and managing the data tables.
# - numpy: For numerical calculations (e.g., sqrt, mean).
# - matplotlib.pyplot: For visualizing the results.
# -----------------------------------------------------------------------------
import numpy as np
import pandas as pd
from pathlib import Path
import matplotlib.pyplot as plt

# Set a plot style for better aesthetics (optional, but recommended).
# 'seaborn-v0_8-whitegrid' provides a clean grid background.
plt.style.use('seaborn-v0_8-whitegrid')


# -----------------------------------------------------------------------------
# 2. CONFIGURATION AND CONSTANTS
# -----------------------------------------------------------------------------
# Define all global parameters here. This makes it easy to tweak the model
# and script behavior without digging through the code.
# -----------------------------------------------------------------------------

# --- Physical Constants & Model Parameters ---

# Critical surface mass density in M_sun / pc^2.
# This is the central parameter of the Square-Rule model.
SIGMA_STAR = 124.0

# Mass-to-Light Ratio (M/L). This is a rough conversion factor to estimate
# stellar mass from luminosity (Surface Brightness). The value 0.5 is a
# typical, but highly simplified, assumption for spiral galaxies.
ML_RATIO = 0.5

# --- Path Configuration ---

# Name of the directory containing the SPARC data files.
# The script expects the following structure: ./rotmod_LTG/GalaxyName_rotmod.dat
DATA_DIR = Path("./rotmod_LTG")


# -----------------------------------------------------------------------------
# 3. CORE FUNCTIONS
# -----------------------------------------------------------------------------
# These functions contain the main logic for loading data and applying the
# physical model.
# -----------------------------------------------------------------------------

def load_sparc_data(path: Path) -> pd.DataFrame | None:
    """
    Reads a single SPARC rotmod.dat file using pandas.

    This function is designed to handle the commented header lines and the
    whitespace-separated format of the SPARC data files.

    Args:
        path (Path): The full path to the .dat file.

    Returns:
        A pandas DataFrame containing the galaxy data, or None if the file
        cannot be found or read.
    """
    if not path.exists():
        print(f"⚠️  File not found: {path}")
        return None

    # Column names are based on the SPARC documentation and file examples.
    col_names = [
        'Rad', 'Vobs', 'errV', 'Vgas', 'Vdisk',
        'Vbul', 'SBdisk', 'SBbul'
    ]

    # We use pandas.read_csv for its robustness.
    # - `comment='#'`: Ignores any lines starting with a hash.
    # - `delim_whitespace=True`: Treats any amount of whitespace as a separator.
    # - `names=...`: Explicitly assigns our column names.
    try:
        df = pd.read_csv(
            path,
            comment='#',
            delim_whitespace=True,
            names=col_names
        )
        # Extract the galaxy name from the filename for later use in plots/tables.
        # e.g., "NGC2403_rotmod.dat" -> "NGC2403"
        df['Galaxy'] = path.stem.replace('_rotmod', '')
        return df
    except Exception as e:
        print(f"❌ Error reading file {path}: {e}")
        return None


def calculate_predicted_velocity(df: pd.DataFrame) -> pd.DataFrame:
    """
    Calculates the predicted rotation velocity based on the Square-Rule.

    This function takes a galaxy's data and adds new columns for each
    step of the calculation.

    Args:
        df (pd.DataFrame): DataFrame containing the raw SPARC data for one galaxy.

    Returns:
        pd.DataFrame: The original DataFrame, now extended with the calculated
                      columns (Sigma, v_bar, f, v_pred).
    """
    # Step 1: Calculate the total baryonic velocity (v_bar).
    # This is the velocity that would be observed if only Newtonian gravity
    # from the visible matter (gas, disk, bulge) existed.
    # Velocities are added in quadrature: v_bar^2 = v_gas^2 + v_disk^2 + v_bulge^2
    df['v_bar'] = np.sqrt(
        df['Vgas']**2 + df['Vdisk']**2 + df['Vbul']**2
    )

    # Step 2: Calculate the surface mass density (Sigma).
    # This is a key simplification. We assume the total surface density is
    # dominated by the stellar disk and can be estimated from its surface
    # brightness (SBdisk) via the Mass-to-Light ratio.
    # Unit: M_sun / pc^2
    df['Sigma'] = df['SBdisk'] * ML_RATIO

    # Step 3: Calculate the amplification factor 'f'.
    # This is the core of the Square-Rule.
    # f = 1 - (Sigma / Sigma*)^2.
    # We use np.clip to ensure the ratio (Sigma / SIGMA_STAR) stays within
    # the range [0, 1], preventing numerical issues.
    ratio = np.clip(df['Sigma'] / SIGMA_STAR, 0.0, 1.0)
    df['f'] = 1.0 - ratio**2

    # Step 4: Calculate the final predicted velocity (v_pred).
    # v_pred^2 = v_bar^2 * (1 + f)
    df['v_pred'] = df['v_bar'] * np.sqrt(1.0 + df['f'])

    return df


def analyze_and_plot_galaxy(df: pd.DataFrame):
    """
    Creates and displays a visualization for a single galaxy.

    The plot compares the observed rotation curve with the model's prediction
    and the purely baryonic curve.
    """
    # Get the galaxy name from the DataFrame.
    galaxy_name = df['Galaxy'].iloc[0]

    # Create a new figure for the plot.
    plt.figure(figsize=(12, 7))

    # Plot 1: Observed velocity (Vobs) with error bars.
    # 'ko' means black ('k') circles ('o').
    # `zorder=10` ensures these points are drawn on top of the lines.
    plt.errorbar(
        df['Rad'], df['Vobs'], yerr=df['errV'],
        fmt='ko', capsize=4, label='V_obs (Observed Data)', zorder=10
    )

    # Plot 2: Predicted velocity (v_pred) from our model.
    # 'r-' means a red ('r') solid line ('-').
    plt.plot(
        df['Rad'], df['v_pred'],
        'r-', lw=2.5, label='V_pred (Square-Rule Model)'
    )

    # Plot 3: Purely baryonic velocity (v_bar).
    # 'b--' means a blue ('b') dashed line ('--').
    plt.plot(
        df['Rad'], df['v_bar'],
        'b--', lw=2, label='V_bar (Baryonic/Newtonian)'
    )

    # Add titles and labels to make the plot understandable.
    plt.title(f"Rotation Curve for {galaxy_name}", fontsize=16)
    plt.xlabel("Radius (kpc)", fontsize=12)
    plt.ylabel("Velocity (km/s)", fontsize=12)
    plt.legend(fontsize=12)

    # Set axis limits for a clean look.
    plt.ylim(bottom=0)  # Velocity cannot be negative.
    plt.xlim(left=0)    # Radius cannot be negative.

    # Adjust layout and display the plot.
    plt.tight_layout()
    plt.show()


# -----------------------------------------------------------------------------
# 4. MAIN EXECUTION BLOCK
# -----------------------------------------------------------------------------
# This is the main part of the script. It only runs when the script is
# executed directly (not when imported as a module).
# -----------------------------------------------------------------------------
if __name__ == "__main__":

    # First, check if the data directory actually exists.
    if not DATA_DIR.exists():
        print(f"‼️ ERROR: Data directory '{DATA_DIR}' not found.")
        print("Please create the folder and place your *.dat files inside.")
    else:
        # If the directory exists, find all files matching the pattern.
        # `glob` finds all pathnames matching a specified pattern.
        # We use `sorted` to process the files in a consistent alphabetical order.
        sparc_files = sorted(list(DATA_DIR.glob('*_rotmod.dat')))

        # Check if any files were actually found.
        if not sparc_files:
            print(f"🤷 No '*_rotmod.dat' files were found in '{DATA_DIR}'.")
        else:
            print(f"✅ Found {len(sparc_files)} galaxies. Starting analysis...\n")

            # Initialize a list to store summary statistics for each galaxy.
            summary_data = []

            # Loop through each found file path.
            for file_path in sparc_files:
                print(f"--- Processing {file_path.name} ---")

                # Step 1: Load the data from the file.
                galaxy_df = load_sparc_data(file_path)
                if galaxy_df is None:
                    # If loading failed, skip to the next file.
                    continue

                # Step 2: Perform the physics calculations.
                galaxy_df = calculate_predicted_velocity(galaxy_df)

                # Step 3: Visualize the results for this galaxy.
                analyze_and_plot_galaxy(galaxy_df)

                # Step 4: Calculate and collect summary statistics.
                # RMSE (Root Mean Square Error) is a standard measure of model accuracy.
                rmse = np.sqrt(np.mean((galaxy_df['Vobs'] - galaxy_df['v_pred'])**2))
                summary_data.append({
                    'Galaxy': file_path.stem.replace('_rotmod', ''),
                    'Mean V_obs': galaxy_df['Vobs'].mean(),
                    'Mean V_pred': galaxy_df['v_pred'].mean(),
                    'Mean f': galaxy_df['f'].mean(),
                    'RMSE': rmse
                })

            # Step 5: After processing all files, print a final summary table.
            if summary_data:
                summary_df = pd.DataFrame(summary_data)
                print("\n" + "="*50)
                print("           ANALYSIS SUMMARY")
                print("="*50)
                # Use to_string for nice console formatting.
                print(summary_df.to_string(index=False, float_format="%.2f"))
                print("="*50)

    print("\nAnalysis complete.")
