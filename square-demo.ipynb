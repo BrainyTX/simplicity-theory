# =============================================================================
# Simplicity Theory  ·  Square-Rule applied to SPARC data
# =============================================================================
#
# A fully commented, English, beginner-friendly script
# ----------------------------------------------------
# • Author  : you :-)
# • Revised : 2025-07-18
#
# Requires: pandas, numpy, matplotlib, seaborn
#   → pip install pandas numpy matplotlib seaborn
#
# Folder layout expected:
#   ├─ rotmod_LTG/              # SPARC rotation-curve files   *_rotmod.dat
#   ├─ SPARC_Lelli2016c.txt     # (optional) catalogue table
#   └─ plots/                   # created automatically
#
# =============================================================================

from pathlib import Path
import numpy as np
import pandas as pd
import matplotlib.pyplot as plt
import seaborn as sns
import matplotlib as mpl

# ----------------------------------------------------------------------------- 
# 0.  GLOBAL CONSTANTS   (change here if you want to tweak)
# -----------------------------------------------------------------------------
SIGMA_STAR   = 123.7          # critical surface density  [M_sun / pc^2]
M_L_RATIO    = 0.5            # crude stellar mass-to-light ratio
DATA_DIR     = Path("rotmod_LTG")
META_FILE    = Path("SPARC_Lelli2016c.txt")   # optional
PLOTS_DIR    = Path("plots")

# ----------------------------------------------------------------------------- 
# 1.  MATPLOTLIB CONFIGURATION  (Arial font, seaborn grid)
# -----------------------------------------------------------------------------
mpl.rcParams.update({
    "font.family": "Arial",
    "axes.grid"  : True,
    "grid.alpha" : 0.25,
})
sns.set_context("talk", font_scale=0.9)

# ----------------------------------------------------------------------------- 
# 2.  HELPER: read the global metadata table (if present)
# -----------------------------------------------------------------------------
def load_metadata(meta_path: Path) -> pd.DataFrame | None:
    """
    Read the SPARC 'Table1.mrt' file (renamed here) and
    return a tidy DataFrame with a few helpful extra columns.
    """
    if not meta_path.exists():
        print("⚠️  Metadata table not found – proceeding without it.")
        return None

    # Fixed-width column specs & names from the original .mrt
    col_specs = [
        (0, 11), (11, 13), (13, 19), (19, 24), (24, 26), (26, 30),
        (30, 34), (34, 41), (41, 48), (48, 53), (53, 61), (61, 66),
        (66, 74), (74, 81), (81, 86), (86, 91), (91, 96), (96, 99)
    ]
    col_names = [
        "Galaxy", "T", "D", "e_D", "f_D", "Inc", "e_Inc", "L36",
        "e_L36", "R_eff", "SB_eff", "R_disk", "SB_disk",
        "M_HI", "R_HI", "V_flat", "e_V_flat", "Q"
    ]

    # Skip header lines until the second horizontal separator
    with meta_path.open(encoding="utf-8") as fh:
        lines = fh.readlines()
    sep_line = "-" * 80
    try:
        skip_rows = [i for i, ln in enumerate(lines) if ln.strip() == sep_line][1] + 1
    except IndexError:
        print("⚠️  Could not locate header separator in metadata – ignored.")
        return None

    meta = pd.read_fwf(meta_path, colspecs=col_specs, names=col_names,
                       skiprows=skip_rows, dtype=str)
    meta["Galaxy"] = meta["Galaxy"].str.strip()

    # Convert numeric columns safely
    for numcol in ["T", "L36", "M_HI", "SB_disk"]:
        meta[numcol] = pd.to_numeric(meta[numcol], errors="coerce")

    # Derived quantities
    meta["M_stars"] = meta["L36"] * M_L_RATIO
    meta["gas_fraction"] = meta["M_HI"] / (meta["M_HI"] + meta["M_stars"])

    return meta


# ----------------------------------------------------------------------------- 
# 3.  HELPER: read a single *_rotmod.dat file
# -----------------------------------------------------------------------------
def load_rotcurve(path: Path) -> pd.DataFrame | None:
    """
    Return a DataFrame with columns:
       R  Vobs  eV  Vgas  Vdisk  Vbul  SBdisk  SBbul  Galaxy
    Units follow SPARC (kpc, km/s, mag, …)
    """
    cols = ["R", "Vobs", "eV", "Vgas", "Vdisk", "Vbul", "SBdisk", "SBbul"]
    try:
        df = pd.read_csv(path, delim_whitespace=True, names=cols, comment="#")
        df["Galaxy"] = path.stem.replace("_rotmod", "")
        return df
    except Exception as exc:
        print(f"❌  Could not read '{path.name}': {exc}")
        return None


# ----------------------------------------------------------------------------- 
# 4.  PHYSICS: apply Square-Rule and offset correction
# -----------------------------------------------------------------------------
def apply_square_rule(df: pd.DataFrame) -> pd.DataFrame:
    """
    Adds four new columns:
        V_bar   … baryonic velocity  (quadrature sum)
        V_pred  … Square-Rule prediction
        V_res   … residuals  (V_obs − V_pred)
        V_corr  … corrected prediction sqrt(V_pred² + ΔV²)
    where ΔV is the *mean* residual of that galaxy.
    """
    # 4.1  baryonic curve (blue dashed)
    df["V_bar"] = np.sqrt(df["Vgas"]**2 + df["Vdisk"]**2 + df["Vbul"]**2)

    # 4.2  Square-Rule factor  f(Σ) = 1 − (Σ/Σ*)²
    sigma = df["SBdisk"] * M_L_RATIO
    f = 1.0 - np.clip(sigma / SIGMA_STAR, 0.0, 1.0) ** 2

    # 4.3  predicted velocity (red curve)
    df["V_pred"] = df["V_bar"] * np.sqrt(1.0 + f)

    # 4.4  residuals and mean offset (green dots + scalar)
    df["V_res"] = df["Vobs"] - df["V_pred"]
    delta_V = df["V_res"].mean()

    # 4.5  “age-corrected” prediction (magenta curve)
    df["V_corr"] = np.sqrt(df["V_pred"] ** 2 + delta_V ** 2)
    df.attrs["delta_V"] = delta_V       # stash for later use
    return df


# ----------------------------------------------------------------------------- 
# 5.  FIGURE: one galaxy, two panels
# -----------------------------------------------------------------------------
def plot_galaxy(df: pd.DataFrame, out_dir: Path):
    g = df["Galaxy"].iat[0]
    ΔV = df.attrs.get("delta_V", np.nan)

    # ─ upper panel ─ rotation curves
    fig, (ax_top, ax_bot) = plt.subplots(
        2, 1, figsize=(11, 8), sharex=True,
        gridspec_kw={"height_ratios": [3, 1]}
    )

    ax_top.errorbar(df["R"], df["Vobs"], yerr=df["eV"],
                    fmt="ko", markersize=4, capsize=3,
                    label="V_obs (measured)")

    ax_top.plot(df["R"], df["V_bar"], "b--", lw=2,
                label="V_bar (baryons, Newton)")

    ax_top.plot(df["R"], df["V_pred"], "r-", lw=2,
                label="V_pred (Square-Rule)")

    ax_top.plot(df["R"], df["V_corr"], color="magenta", lw=2, ls="-.",
                label=f"V_pred ⊕ ΔV  (|ΔV| = {ΔV:+.1f} km/s)")

    ax_top.set_title(g, fontsize=16)
    ax_top.set_ylabel("km s⁻¹")
    ax_top.legend(frameon=False)

    # ─ lower panel ─ residuals
    ax_bot.plot(df["R"], df["V_res"], "g.", label="ΔV (residuals)")
    ax_bot.axhline(0, color="k", ls="--", lw=1)
    ax_bot.set_xlabel("kpc")
    ax_bot.set_ylabel("ΔV")

    fig.tight_layout(rect=[0, 0.03, 1, 0.97])
    out_path = out_dir / f"{g}_analyse.png"
    fig.savefig(out_path, dpi=150)
    plt.close(fig)
    print(f"🖼  Saved plot → {out_path.name}")


# ----------------------------------------------------------------------------- 
# 6.  MAIN LOOP
# -----------------------------------------------------------------------------
def main():
    PLOTS_DIR.mkdir(exist_ok=True)
    meta = load_metadata(META_FILE)   # may be None

    files = sorted(DATA_DIR.glob("*_rotmod.dat"))
    if not files:
        print(f"❌  No rotation-curve files found in {DATA_DIR.resolve()}")
        return

    print(f"Processing {len(files)} galaxies …")
    for f in files:
        rc = load_rotcurve(f)
        if rc is None:
            continue

        rc = apply_square_rule(rc)
        plot_galaxy(rc, PLOTS_DIR)

    print("\n✅  All done – check the 'plots' folder for results.")

# ----------------------------------------------------------------------------- 
# RUN
# -----------------------------------------------------------------------------
if __name__ == "__main__":
    main()
