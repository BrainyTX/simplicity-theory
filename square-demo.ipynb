# =============================================================================
# Simplicity Theory: Die Quadrat-Regel an SPARC-Daten
# FINALE VERSION (mit Speichern & Anzeigen)
# =============================================================================
#
# Autor: Logica (adaptiert und erweitert von Gemini)
# Datum: 16.07.2025
#
# --- ZIEL ---
# Dieses Skript analysiert jede SPARC-Galaxie einzeln. Für jede Galaxie wird
# ein kombinierter Plot erstellt, der sowohl die Rotationskurve als auch den
# Residuen-Plot (Versatz) anzeigt.
#
# --- ANWENDUNG ---
# 1. Benötigte Bibliotheken installieren:
#    pip install pandas numpy matplotlib seaborn
# 2. Einen Ordner `rotmod_LTG` im selben Verzeichnis wie dieses Skript erstellen.
# 3. Die `*_rotmod.dat`-Dateien in diesen Ordner legen.
# 4. Das Skript ausführen: python dein_skript_name.py
# 5. Für jede Galaxie wird ein Plot-Fenster angezeigt UND eine PNG-Datei
#    im Ordner `plots` gespeichert.
#
# =============================================================================


# -----------------------------------------------------------------------------
# 1. SETUP UND IMPORTE
# -----------------------------------------------------------------------------
import numpy as np
import pandas as pd
from pathlib import Path
import matplotlib.pyplot as plt
import seaborn as sns
import sys

# Setzt einen ansehnlichen Stil für die Plots
plt.style.use('seaborn-v0_8-whitegrid')


# -----------------------------------------------------------------------------
# 2. KONFIGURATION UND KONSTANTEN
# -----------------------------------------------------------------------------
SIGMA_STAR = 124.0
ML_RATIO = 0.5
DATA_DIR = Path("./rotmod_LTG")
PLOT_DIR = Path("./plots") # Verzeichnis zum Speichern aller Plots


# -----------------------------------------------------------------------------
# 3. KERNFUNKTIONEN
# -----------------------------------------------------------------------------

def load_sparc_data(path: Path) -> pd.DataFrame | None:
    """Liest eine einzelne rotmod.dat-Datei."""
    if not path.exists():
        print(f"⚠️  Datei nicht gefunden: {path}")
        return None
    col_names = ['Rad', 'Vobs', 'errV', 'Vgas', 'Vdisk', 'Vbul', 'SBdisk', 'SBbul']
    try:
        df = pd.read_csv(path, comment='#', sep=r'\s+', names=col_names)
        df['Galaxy'] = path.stem.replace('_rotmod', '')
        return df
    except Exception as e:
        print(f"❌ Fehler beim Lesen der Datei {path}: {e}")
        return None

def calculate_predicted_velocity(df: pd.DataFrame) -> pd.DataFrame:
    """Berechnet die vorhergesagte Geschwindigkeit nach der Quadrat-Regel."""
    df['v_bar'] = np.sqrt(df['Vgas']**2 + df['Vdisk']**2 + df['Vbul']**2)
    df['Sigma'] = df['SBdisk'] * ML_RATIO
    ratio = np.clip(df['Sigma'] / SIGMA_STAR, 0.0, 1.0)
    df['f'] = 1.0 - ratio**2
    df['v_pred'] = df['v_bar'] * np.sqrt(1.0 + df['f'])
    return df

def analyze_and_plot_galaxy(df: pd.DataFrame, save_dir: Path):
    """
    Erstellt, SPEICHERT und ZEIGT einen kombinierten Plot mit
    Rotationskurve und dem Versatz (Residuen).
    """
    galaxy_name = df['Galaxy'].iloc[0]

    # Erstellt eine Figur mit 2 Subplots untereinander.
    fig, (ax1, ax2) = plt.subplots(
        2, 1,
        figsize=(12, 10),
        sharex=True,
        gridspec_kw={'height_ratios': [3, 1]} # Der obere Plot ist 3x so hoch wie der untere
    )
    fig.suptitle(f"Analyse für {galaxy_name}", fontsize=18, weight='bold')

    # --- OBERER PLOT: ROTATIONSKURVE ---
    ax1.errorbar(df['Rad'], df['Vobs'], yerr=df['errV'], fmt='ko', capsize=4, label='V_obs (Beobachtete Daten)', zorder=10)
    ax1.plot(df['Rad'], df['v_pred'], 'r-', lw=2.5, label='V_pred (Deine Theorie)')
    ax1.plot(df['Rad'], df['v_bar'], 'b--', lw=2, label='V_bar (Baryonen/Newton)')
    ax1.set_ylabel("Geschwindigkeit (km/s)", fontsize=12)
    ax1.legend(fontsize=12)
    ax1.grid(True)

    # --- UNTERER PLOT: VERSATZ (RESIDUEN) ---
    residuals = df['Vobs'] - df['v_pred']
    ax2.plot(df['Rad'], residuals, 'go', alpha=0.7, label='Versatz')
    ax2.axhline(0, color='k', linestyle='--') # Nulllinie für perfekte Übereinstimmung
    ax2.set_xlabel("Radius (kpc)", fontsize=12)
    ax2.set_ylabel(r"Versatz (V$_{obs}$ - V$_{pred}$)", fontsize=12)
    ax2.grid(True)

    # Layout anpassen, speichern und anzeigen
    plt.tight_layout(rect=[0, 0.03, 1, 0.95]) # Platz für den Haupttitel lassen
    
    save_path = save_dir / f"{galaxy_name}_analyse.png"
    plt.savefig(save_path)
    # Explizite Bestätigung, dass die Datei gespeichert wurde.
    print(f"   -> Plot gespeichert: {save_path}")
    
    plt.show() # Zeigt den Plot an und blockiert, bis er geschlossen wird
    
    plt.close(fig) # Wichtig, um Speicher freizugeben


# -----------------------------------------------------------------------------
# 4. HAUPTPROGRAMM
# -----------------------------------------------------------------------------
if __name__ == "__main__":
    PLOT_DIR.mkdir(exist_ok=True)
    print(f"✅ Plots werden im Verzeichnis '{PLOT_DIR}' gespeichert.")

    if not DATA_DIR.exists():
        print(f"‼️ FEHLER: Datenverzeichnis '{DATA_DIR}' nicht gefunden.")
    else:
        sparc_files = sorted(list(DATA_DIR.glob('*_rotmod.dat')))
        if not sparc_files:
            print(f"🤷 Keine '*_rotmod.dat'-Dateien in '{DATA_DIR}' gefunden.")
        else:
            print(f"✅ {len(sparc_files)} Galaxien gefunden. Starte Analyse...\n")

            for file_path in sparc_files:
                print(f"--- Verarbeite {file_path.name} ---")
                
                galaxy_df = load_sparc_data(file_path)
                if galaxy_df is None:
                    continue

                galaxy_df = calculate_predicted_velocity(galaxy_df)
                
                # Diese Funktion erstellt jetzt den kombinierten Plot
                analyze_and_plot_galaxy(galaxy_df, PLOT_DIR)

    print("\nAnalyse abgeschlossen.")
