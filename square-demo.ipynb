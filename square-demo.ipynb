# =============================================================================
# Simplicity Theory · Square-Rule on SPARC (with SMBH + age-shift)
# =============================================================================
#             ░░  turnkey, beginner-friendly, fully commented  ░░
#
# Folder layout expected
# ├─ rotmod_LTG/            *_rotmod.dat      (175 RC files)
# ├─ SPARC_Lelli2016c.txt   Table1.mrt, just renamed
# └─ plots/                 created automatically
#
# Requires:  pip install pandas numpy matplotlib seaborn
# =============================================================================
from pathlib import Path
import numpy as np
import pandas as pd
import matplotlib.pyplot as plt
import seaborn as sns
import matplotlib as mpl

# --------------------------------------------------------------------------- #
# 0) GLOBAL TWEAKABLE CONSTANTS
# --------------------------------------------------------------------------- #
SIGMA_STAR   = 123.7       # critical surface density  [M⊙ pc⁻²]
M_L_DISK     = 0.5         # M/L 3.6 µm, disk  (very rough)
M_L_BULGE    = 0.6         # M/L 3.6 µm, bulge (slightly higher)
BH_SLOPE     = 1.05        # McConnell & Ma (2013)
BH_INTERCEPT = 8.46        # log10(M_BH / M⊙) at M_bulge = 1e11 M⊙

DATA_DIR  = Path("rotmod_LTG")
META_FILE = Path("SPARC_Lelli2016c.txt")   # the renamed Table1.mrt
PLOTS_DIR = Path("plots")

# --------------------------------------------------------------------------- #
# 1) MATPLOTLIB LOOK & FEEL  (DejaVu Sans has full Unicode & math glyphs)
# --------------------------------------------------------------------------- #
mpl.rcParams.update({
    "font.family"     : "DejaVu Sans",
    "axes.grid"       : True,
    "grid.alpha"      : 0.25,
    "figure.dpi"      : 110,
})
sns.set_context("talk", font_scale=0.9)

# --------------------------------------------------------------------------- #
# 2) METADATA LOADER  – returns DataFrame or None
# --------------------------------------------------------------------------- #
def load_metadata(path: Path) -> pd.DataFrame | None:
    if not path.exists():
        print("⦿  No metadata file found – running without bulge/BH info.")
        return None

    col_specs = [
        (0,11),(11,13),(13,19),(19,24),(24,26),(26,30),(30,34),
        (34,41),(41,48),(48,53),(53,61),(61,66),(66,74),(74,81),
        (81,86),(86,91),(91,96),(96,99)
    ]
    col_names = ["Galaxy","T","D","e_D","f_D","Inc","e_Inc","L36",
                 "e_L36","R_eff","SB_eff","R_disk","SB_disk",
                 "M_HI","R_HI","V_flat","e_V_flat","Q"]

    # skip header up to 2nd separator line
    with path.open(encoding="utf-8") as fh:
        lines = fh.readlines()
    sep = "-"*80
    try:
        skip = [i for i,l in enumerate(lines) if l.strip()==sep][1] + 1
    except IndexError:
        print("⚠️  Header separator not found – metadata ignored.")
        return None

    meta = pd.read_fwf(path, colspecs=col_specs, names=col_names,
                       skiprows=skip, dtype=str)
    meta["Galaxy"] = meta["Galaxy"].str.strip()

    # numeric cols
    for c in ["T","L36","M_HI","SB_disk"]:
        meta[c] = pd.to_numeric(meta[c], errors="coerce")

    # stellar & gas mass
    meta["M_stars"] = meta["L36"] * M_L_DISK
    meta["gas_fraction"] = meta["M_HI"] / (meta["M_HI"] + meta["M_stars"])

    # crude bulge-mass proxy from central disk SB
    # very approximate: take area of 1 kpc radius circle
    area_kpc2 = np.pi * 1**2
    meta["L_bulge"]  = meta["SB_disk"] * area_kpc2
    meta["M_bulge"]  = meta["L_bulge"] * M_L_BULGE

    # SMBH only for early types (T ≤ 2.5); else 0
    cond = meta["T"] <= 2.5
    Mb   = meta.loc[cond, "M_bulge"].clip(lower=1e8)   # avoid log(0)
    meta.loc[cond, "M_BH"] = 10**(
        BH_INTERCEPT + BH_SLOPE * np.log10(Mb / 1e11)
    )
    meta["M_BH"] = meta["M_BH"].fillna(0.0)
    return meta

# --------------------------------------------------------------------------- #
# 3) SINGLE ROTMOD LOADER
# --------------------------------------------------------------------------- #
def load_rotcurve(path: Path) -> pd.DataFrame | None:
    cols = ["R","Vobs","eV","Vgas","Vdisk","Vbul","SBdisk","SBbul"]
    try:
        df = pd.read_csv(path, sep=r"\s+", names=cols, comment="#")
        df["Galaxy"] = path.stem.replace("_rotmod","")
        return df
    except Exception as e:
        print(f"❌  {path.name}: {e}")
        return None

# --------------------------------------------------------------------------- #
# 4) PHYSICS CORE
# --------------------------------------------------------------------------- #
def apply_square_rule(df: pd.DataFrame, M_BH: float = 0.0) -> pd.DataFrame:
    """Adds V_bar, V_pred, V_res, V_corr — and stores ΔV in attrs."""
    # 4.1 baryons (gas+disk+bulge)
    df["V_bar"] = np.sqrt(df["Vgas"]**2 + df["Vdisk"]**2 + df["Vbul"]**2)

    # optional SMBH point-mass term  (G in kpc (km/s)² / M⊙)
    if M_BH > 0:
        G_kpc = 4.302e-6
        df["V_bar"] = np.sqrt(df["V_bar"]**2 + G_kpc*M_BH/df["R"])

    # 4.2 Square-Rule amplification  f = 1 − (Σ/Σ*)²
    sigma = df["SBdisk"] * M_L_DISK
    f     = 1.0 - np.clip(sigma / SIGMA_STAR, 0.0, 1.0)**2

    # 4.3 prediction
    df["V_pred"] = df["V_bar"] * np.sqrt(1.0 + f)

    # 4.4 residuals & mean offset
    df["V_res"] = df["Vobs"] - df["V_pred"]
    delta_V     = df["V_res"].mean()

    # 4.5 age-corrected curve (simple vertical shift)
    df["V_corr"] = df["V_pred"] + delta_V
    df.attrs["delta_V"] = delta_V
    return df

# --------------------------------------------------------------------------- #
# 5) PLOTTER
# --------------------------------------------------------------------------- #
def plot_galaxy(df: pd.DataFrame, out_dir: Path):
    g   = df["Galaxy"].iat[0]
    dV  = df.attrs.get("delta_V", np.nan)

    fig,(ax1,ax2)=plt.subplots(2,1,figsize=(11,8),sharex=True,
                               gridspec_kw={"height_ratios":[3,1]})

    # ─ rotation curves
    ax1.errorbar(df["R"],df["Vobs"],yerr=df["eV"],
                 fmt="ko",ms=4,capsize=3,label="V_obs (measured)")
    ax1.plot(df["R"],df["V_bar"],"b--",lw=2,label="V_bar (baryons, Newton)")
    ax1.plot(df["R"],df["V_pred"],"r-",lw=2,label="V_pred (Square-Rule)")
    ax1.plot(df["R"],df["V_corr"],color="magenta",ls="-.",lw=2,
             label=f"V_pred ⊕ ΔV   (ΔV = {dV:+.1f} km/s)")
    ax1.set_title(g); ax1.set_ylabel("km s$^{-1}$")
    ax1.legend(frameon=False)

    # ─ residuals
    ax2.plot(df["R"],df["V_res"],"g.")
    ax2.axhline(0,color="k",ls="--",lw=1)
    ax2.set_xlabel("kpc"); ax2.set_ylabel("ΔV")

    fig.tight_layout(rect=[0,0.03,1,0.97])
    out = out_dir/f"{g}_analyse.png"
    fig.savefig(out); plt.close(fig)
    print("🖼 ", out.name)

# --------------------------------------------------------------------------- #
# 6) MAIN
# --------------------------------------------------------------------------- #
def main():
    PLOTS_DIR.mkdir(exist_ok=True)
    meta = load_metadata(META_FILE)

    files = sorted(DATA_DIR.glob("*_rotmod.dat"))
    if not files:
        print("🚫  No '*_rotmod.dat' files found in", DATA_DIR.resolve()); return
    print(f"⟳  Processing {len(files)} galaxies …\n")

    for fp in files:
        df = load_rotcurve(fp);
        if df is None:
            continue
        g  = df["Galaxy"].iat[0]
        M_BH = 0.0
        if meta is not None and g in meta["Galaxy"].values:
            M_BH = meta.loc[meta["Galaxy"]==g,"M_BH"].iat[0]
        df = apply_square_rule(df, M_BH)
        plot_galaxy(df, PLOTS_DIR)

    print("\n✅  Finished – open the 'plots' folder.")

# --------------------------------------------------------------------------- #
if __name__ == "__main__":
    main()
