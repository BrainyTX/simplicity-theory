\begin{figure}[h]
  \centering
  \includegraphics[width=0.8\textwidth]{figures/sparc_threshold.png}
  \caption{Empirical validation of the $\Sigma^*_{\rm crit}$ prediction.}
  \label{fig:sparc}
\end{figure}
